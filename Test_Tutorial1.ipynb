{
 "cells": [
  {
   "cell_type": "code",
   "execution_count": 1,
   "id": "c101c2db",
   "metadata": {},
   "outputs": [],
   "source": [
    "# hello world"
   ]
  },
  {
   "cell_type": "code",
   "execution_count": 3,
   "id": "510f2a40",
   "metadata": {},
   "outputs": [],
   "source": [
    "# HEADER"
   ]
  },
  {
   "cell_type": "code",
   "execution_count": 5,
   "id": "49c3ca6b",
   "metadata": {},
   "outputs": [
    {
     "name": "stdout",
     "output_type": "stream",
     "text": [
      "0\n",
      "1\n",
      "2\n",
      "3\n",
      "4\n"
     ]
    }
   ],
   "source": [
    "for i in range(5):\n",
    "    print(i)"
   ]
  },
  {
   "cell_type": "code",
   "execution_count": 1,
   "id": "cd26dc77",
   "metadata": {},
   "outputs": [],
   "source": [
    "# ich bin nutzer 2, schau mal meine Änderungen"
   ]
  },
  {
   "cell_type": "code",
   "execution_count": null,
   "id": "698e1279",
   "metadata": {},
   "outputs": [],
   "source": []
  }
 ],
 "metadata": {
  "kernelspec": {
   "display_name": "Python 3 (ipykernel)",
   "language": "python",
   "name": "python3"
  },
  "language_info": {
   "codemirror_mode": {
    "name": "ipython",
    "version": 3
   },
   "file_extension": ".py",
   "mimetype": "text/x-python",
   "name": "python",
   "nbconvert_exporter": "python",
   "pygments_lexer": "ipython3",
   "version": "3.9.7"
  }
 },
 "nbformat": 4,
 "nbformat_minor": 5
}
